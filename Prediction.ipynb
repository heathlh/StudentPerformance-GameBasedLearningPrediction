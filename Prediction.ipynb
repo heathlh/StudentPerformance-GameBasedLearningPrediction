{
 "cells": [
  {
   "cell_type": "markdown",
   "id": "brave-batch",
   "metadata": {
    "papermill": {
     "duration": 0.008017,
     "end_time": "2023-05-08T22:51:58.499933",
     "exception": false,
     "start_time": "2023-05-08T22:51:58.491916",
     "status": "completed"
    },
    "tags": []
   },
   "source": [
    "#Final_Version for Hang, Hanyu, and Jady"
   ]
  },
  {
   "cell_type": "code",
   "execution_count": 1,
   "id": "genuine-league",
   "metadata": {
    "execution": {
     "iopub.execute_input": "2023-05-08T22:51:58.515818Z",
     "iopub.status.busy": "2023-05-08T22:51:58.515022Z",
     "iopub.status.idle": "2023-05-08T22:52:00.609590Z",
     "shell.execute_reply": "2023-05-08T22:52:00.607933Z"
    },
    "papermill": {
     "duration": 2.107031,
     "end_time": "2023-05-08T22:52:00.613918",
     "exception": false,
     "start_time": "2023-05-08T22:51:58.506887",
     "status": "completed"
    },
    "tags": []
   },
   "outputs": [],
   "source": [
    "import pandas as pd\n",
    "import numpy as np\n",
    "import matplotlib.pyplot as plt\n",
    "import seaborn as sns\n",
    "from xgboost import XGBClassifier\n",
    "from sklearn.model_selection import train_test_split\n",
    "from sklearn.metrics import f1_score\n",
    "from sklearn.model_selection import RandomizedSearchCV, GridSearchCV\n",
    "from sklearn.metrics import accuracy_score"
   ]
  },
  {
   "cell_type": "markdown",
   "id": "sacred-glass",
   "metadata": {
    "papermill": {
     "duration": 0.006262,
     "end_time": "2023-05-08T22:52:00.627515",
     "exception": false,
     "start_time": "2023-05-08T22:52:00.621253",
     "status": "completed"
    },
    "tags": []
   },
   "source": [
    "*Import data*"
   ]
  },
  {
   "cell_type": "code",
   "execution_count": 2,
   "id": "average-august",
   "metadata": {
    "_cell_guid": "b1076dfc-b9ad-4769-8c92-a6c4dae69d19",
    "_uuid": "8f2839f25d086af736a60e9eeb907d3b93b6e0e5",
    "execution": {
     "iopub.execute_input": "2023-05-08T22:52:00.643661Z",
     "iopub.status.busy": "2023-05-08T22:52:00.642931Z",
     "iopub.status.idle": "2023-05-08T22:54:45.483710Z",
     "shell.execute_reply": "2023-05-08T22:54:45.482523Z"
    },
    "papermill": {
     "duration": 164.852756,
     "end_time": "2023-05-08T22:54:45.487018",
     "exception": false,
     "start_time": "2023-05-08T22:52:00.634262",
     "status": "completed"
    },
    "tags": []
   },
   "outputs": [],
   "source": [
    "dtypes={\n",
    "    'elapsed_time':np.int32,\n",
    "    'event_name':'category',\n",
    "    'name':'category',\n",
    "    'level':np.uint8,\n",
    "    'room_coor_x':np.float32,\n",
    "    'room_coor_y':np.float32,\n",
    "    'screen_coor_x':np.float32,\n",
    "    'screen_coor_y':np.float32,\n",
    "    'hover_duration':np.float32,\n",
    "    'text':'category',\n",
    "    'fqid':'category',\n",
    "    'room_fqid':'category',\n",
    "    'text_fqid':'category',\n",
    "    'fullscreen':'category',\n",
    "    'hq':'category',\n",
    "    'music':'category',\n",
    "    'level_group':'category'}\n",
    "\n",
    "train = pd.read_csv('/kaggle/input/predict-student-performance-from-game-play/train.csv', dtype=dtypes)\n",
    "labels = pd.read_csv('/kaggle/input/predict-student-performance-from-game-play/train_labels.csv')"
   ]
  },
  {
   "cell_type": "code",
   "execution_count": 3,
   "id": "arabic-helena",
   "metadata": {
    "execution": {
     "iopub.execute_input": "2023-05-08T22:54:45.502774Z",
     "iopub.status.busy": "2023-05-08T22:54:45.501986Z",
     "iopub.status.idle": "2023-05-08T22:54:45.543847Z",
     "shell.execute_reply": "2023-05-08T22:54:45.542705Z"
    },
    "papermill": {
     "duration": 0.053538,
     "end_time": "2023-05-08T22:54:45.547351",
     "exception": false,
     "start_time": "2023-05-08T22:54:45.493813",
     "status": "completed"
    },
    "tags": []
   },
   "outputs": [
    {
     "data": {
      "text/html": [
       "<div>\n",
       "<style scoped>\n",
       "    .dataframe tbody tr th:only-of-type {\n",
       "        vertical-align: middle;\n",
       "    }\n",
       "\n",
       "    .dataframe tbody tr th {\n",
       "        vertical-align: top;\n",
       "    }\n",
       "\n",
       "    .dataframe thead th {\n",
       "        text-align: right;\n",
       "    }\n",
       "</style>\n",
       "<table border=\"1\" class=\"dataframe\">\n",
       "  <thead>\n",
       "    <tr style=\"text-align: right;\">\n",
       "      <th></th>\n",
       "      <th>session_id</th>\n",
       "      <th>index</th>\n",
       "      <th>elapsed_time</th>\n",
       "      <th>event_name</th>\n",
       "      <th>name</th>\n",
       "      <th>level</th>\n",
       "      <th>page</th>\n",
       "      <th>room_coor_x</th>\n",
       "      <th>room_coor_y</th>\n",
       "      <th>screen_coor_x</th>\n",
       "      <th>screen_coor_y</th>\n",
       "      <th>hover_duration</th>\n",
       "      <th>text</th>\n",
       "      <th>fqid</th>\n",
       "      <th>room_fqid</th>\n",
       "      <th>text_fqid</th>\n",
       "      <th>fullscreen</th>\n",
       "      <th>hq</th>\n",
       "      <th>music</th>\n",
       "      <th>level_group</th>\n",
       "    </tr>\n",
       "  </thead>\n",
       "  <tbody>\n",
       "    <tr>\n",
       "      <th>0</th>\n",
       "      <td>20090312431273200</td>\n",
       "      <td>0</td>\n",
       "      <td>0</td>\n",
       "      <td>cutscene_click</td>\n",
       "      <td>basic</td>\n",
       "      <td>0</td>\n",
       "      <td>NaN</td>\n",
       "      <td>-413.991394</td>\n",
       "      <td>-159.314682</td>\n",
       "      <td>380.0</td>\n",
       "      <td>494.0</td>\n",
       "      <td>NaN</td>\n",
       "      <td>undefined</td>\n",
       "      <td>intro</td>\n",
       "      <td>tunic.historicalsociety.closet</td>\n",
       "      <td>tunic.historicalsociety.closet.intro</td>\n",
       "      <td>0</td>\n",
       "      <td>0</td>\n",
       "      <td>1</td>\n",
       "      <td>0-4</td>\n",
       "    </tr>\n",
       "    <tr>\n",
       "      <th>1</th>\n",
       "      <td>20090312431273200</td>\n",
       "      <td>1</td>\n",
       "      <td>1323</td>\n",
       "      <td>person_click</td>\n",
       "      <td>basic</td>\n",
       "      <td>0</td>\n",
       "      <td>NaN</td>\n",
       "      <td>-413.991394</td>\n",
       "      <td>-159.314682</td>\n",
       "      <td>380.0</td>\n",
       "      <td>494.0</td>\n",
       "      <td>NaN</td>\n",
       "      <td>Whatcha doing over there, Jo?</td>\n",
       "      <td>gramps</td>\n",
       "      <td>tunic.historicalsociety.closet</td>\n",
       "      <td>tunic.historicalsociety.closet.gramps.intro_0_...</td>\n",
       "      <td>0</td>\n",
       "      <td>0</td>\n",
       "      <td>1</td>\n",
       "      <td>0-4</td>\n",
       "    </tr>\n",
       "    <tr>\n",
       "      <th>2</th>\n",
       "      <td>20090312431273200</td>\n",
       "      <td>2</td>\n",
       "      <td>831</td>\n",
       "      <td>person_click</td>\n",
       "      <td>basic</td>\n",
       "      <td>0</td>\n",
       "      <td>NaN</td>\n",
       "      <td>-413.991394</td>\n",
       "      <td>-159.314682</td>\n",
       "      <td>380.0</td>\n",
       "      <td>494.0</td>\n",
       "      <td>NaN</td>\n",
       "      <td>Just talking to Teddy.</td>\n",
       "      <td>gramps</td>\n",
       "      <td>tunic.historicalsociety.closet</td>\n",
       "      <td>tunic.historicalsociety.closet.gramps.intro_0_...</td>\n",
       "      <td>0</td>\n",
       "      <td>0</td>\n",
       "      <td>1</td>\n",
       "      <td>0-4</td>\n",
       "    </tr>\n",
       "    <tr>\n",
       "      <th>3</th>\n",
       "      <td>20090312431273200</td>\n",
       "      <td>3</td>\n",
       "      <td>1147</td>\n",
       "      <td>person_click</td>\n",
       "      <td>basic</td>\n",
       "      <td>0</td>\n",
       "      <td>NaN</td>\n",
       "      <td>-413.991394</td>\n",
       "      <td>-159.314682</td>\n",
       "      <td>380.0</td>\n",
       "      <td>494.0</td>\n",
       "      <td>NaN</td>\n",
       "      <td>I gotta run to my meeting!</td>\n",
       "      <td>gramps</td>\n",
       "      <td>tunic.historicalsociety.closet</td>\n",
       "      <td>tunic.historicalsociety.closet.gramps.intro_0_...</td>\n",
       "      <td>0</td>\n",
       "      <td>0</td>\n",
       "      <td>1</td>\n",
       "      <td>0-4</td>\n",
       "    </tr>\n",
       "    <tr>\n",
       "      <th>4</th>\n",
       "      <td>20090312431273200</td>\n",
       "      <td>4</td>\n",
       "      <td>1863</td>\n",
       "      <td>person_click</td>\n",
       "      <td>basic</td>\n",
       "      <td>0</td>\n",
       "      <td>NaN</td>\n",
       "      <td>-412.991394</td>\n",
       "      <td>-159.314682</td>\n",
       "      <td>381.0</td>\n",
       "      <td>494.0</td>\n",
       "      <td>NaN</td>\n",
       "      <td>Can I come, Gramps?</td>\n",
       "      <td>gramps</td>\n",
       "      <td>tunic.historicalsociety.closet</td>\n",
       "      <td>tunic.historicalsociety.closet.gramps.intro_0_...</td>\n",
       "      <td>0</td>\n",
       "      <td>0</td>\n",
       "      <td>1</td>\n",
       "      <td>0-4</td>\n",
       "    </tr>\n",
       "  </tbody>\n",
       "</table>\n",
       "</div>"
      ],
      "text/plain": [
       "          session_id  index  elapsed_time      event_name   name  level  page  \\\n",
       "0  20090312431273200      0             0  cutscene_click  basic      0   NaN   \n",
       "1  20090312431273200      1          1323    person_click  basic      0   NaN   \n",
       "2  20090312431273200      2           831    person_click  basic      0   NaN   \n",
       "3  20090312431273200      3          1147    person_click  basic      0   NaN   \n",
       "4  20090312431273200      4          1863    person_click  basic      0   NaN   \n",
       "\n",
       "   room_coor_x  room_coor_y  screen_coor_x  screen_coor_y  hover_duration  \\\n",
       "0  -413.991394  -159.314682          380.0          494.0             NaN   \n",
       "1  -413.991394  -159.314682          380.0          494.0             NaN   \n",
       "2  -413.991394  -159.314682          380.0          494.0             NaN   \n",
       "3  -413.991394  -159.314682          380.0          494.0             NaN   \n",
       "4  -412.991394  -159.314682          381.0          494.0             NaN   \n",
       "\n",
       "                            text    fqid                       room_fqid  \\\n",
       "0                      undefined   intro  tunic.historicalsociety.closet   \n",
       "1  Whatcha doing over there, Jo?  gramps  tunic.historicalsociety.closet   \n",
       "2         Just talking to Teddy.  gramps  tunic.historicalsociety.closet   \n",
       "3     I gotta run to my meeting!  gramps  tunic.historicalsociety.closet   \n",
       "4            Can I come, Gramps?  gramps  tunic.historicalsociety.closet   \n",
       "\n",
       "                                           text_fqid fullscreen hq music  \\\n",
       "0               tunic.historicalsociety.closet.intro          0  0     1   \n",
       "1  tunic.historicalsociety.closet.gramps.intro_0_...          0  0     1   \n",
       "2  tunic.historicalsociety.closet.gramps.intro_0_...          0  0     1   \n",
       "3  tunic.historicalsociety.closet.gramps.intro_0_...          0  0     1   \n",
       "4  tunic.historicalsociety.closet.gramps.intro_0_...          0  0     1   \n",
       "\n",
       "  level_group  \n",
       "0         0-4  \n",
       "1         0-4  \n",
       "2         0-4  \n",
       "3         0-4  \n",
       "4         0-4  "
      ]
     },
     "execution_count": 3,
     "metadata": {},
     "output_type": "execute_result"
    }
   ],
   "source": [
    "train.head()"
   ]
  },
  {
   "cell_type": "code",
   "execution_count": 4,
   "id": "cross-impression",
   "metadata": {
    "execution": {
     "iopub.execute_input": "2023-05-08T22:54:45.563705Z",
     "iopub.status.busy": "2023-05-08T22:54:45.562925Z",
     "iopub.status.idle": "2023-05-08T22:54:45.726608Z",
     "shell.execute_reply": "2023-05-08T22:54:45.725445Z"
    },
    "papermill": {
     "duration": 0.175235,
     "end_time": "2023-05-08T22:54:45.729756",
     "exception": false,
     "start_time": "2023-05-08T22:54:45.554521",
     "status": "completed"
    },
    "tags": []
   },
   "outputs": [
    {
     "data": {
      "text/plain": [
       "(23562,)"
      ]
     },
     "execution_count": 4,
     "metadata": {},
     "output_type": "execute_result"
    }
   ],
   "source": [
    "train['session_id'].unique().shape\n",
    "# check the number of users"
   ]
  },
  {
   "cell_type": "code",
   "execution_count": 5,
   "id": "vanilla-allen",
   "metadata": {
    "execution": {
     "iopub.execute_input": "2023-05-08T22:54:45.747090Z",
     "iopub.status.busy": "2023-05-08T22:54:45.746422Z",
     "iopub.status.idle": "2023-05-08T22:54:45.753114Z",
     "shell.execute_reply": "2023-05-08T22:54:45.752110Z"
    },
    "papermill": {
     "duration": 0.018835,
     "end_time": "2023-05-08T22:54:45.756193",
     "exception": false,
     "start_time": "2023-05-08T22:54:45.737358",
     "status": "completed"
    },
    "tags": []
   },
   "outputs": [
    {
     "data": {
      "text/plain": [
       "(26296946, 20)"
      ]
     },
     "execution_count": 5,
     "metadata": {},
     "output_type": "execute_result"
    }
   ],
   "source": [
    "train.shape"
   ]
  },
  {
   "cell_type": "code",
   "execution_count": 6,
   "id": "documentary-chester",
   "metadata": {
    "execution": {
     "iopub.execute_input": "2023-05-08T22:54:45.774169Z",
     "iopub.status.busy": "2023-05-08T22:54:45.773512Z",
     "iopub.status.idle": "2023-05-08T22:54:46.514460Z",
     "shell.execute_reply": "2023-05-08T22:54:46.512857Z"
    },
    "papermill": {
     "duration": 0.75424,
     "end_time": "2023-05-08T22:54:46.517923",
     "exception": false,
     "start_time": "2023-05-08T22:54:45.763683",
     "status": "completed"
    },
    "tags": []
   },
   "outputs": [],
   "source": [
    "# get rid of the \"_qx\" in the session_id\n",
    "labels['session'] = labels.session_id.apply(lambda x: int(x.split('_')[0]) )\n",
    "labels['q'] = labels.session_id.apply(lambda x: int(x.split('_')[-1][1:]) )"
   ]
  },
  {
   "cell_type": "code",
   "execution_count": 7,
   "id": "sought-bleeding",
   "metadata": {
    "execution": {
     "iopub.execute_input": "2023-05-08T22:54:46.535916Z",
     "iopub.status.busy": "2023-05-08T22:54:46.535193Z",
     "iopub.status.idle": "2023-05-08T22:54:46.540571Z",
     "shell.execute_reply": "2023-05-08T22:54:46.539511Z"
    },
    "papermill": {
     "duration": 0.01837,
     "end_time": "2023-05-08T22:54:46.543949",
     "exception": false,
     "start_time": "2023-05-08T22:54:46.525579",
     "status": "completed"
    },
    "tags": []
   },
   "outputs": [],
   "source": [
    "# choose appropriate categorical features and numerical features\n",
    "cat_features = ['event_name', 'name','fqid', 'room_fqid', 'text_fqid']\n",
    "num_features = ['elapsed_time','level','page','room_coor_x', 'room_coor_y', \n",
    "       'screen_coor_x', 'screen_coor_y', 'hover_duration']\n",
    "\n",
    "# cat_features = ['fqid', 'room_fqid']\n",
    "# num_features = ['level', 'page', 'screen_coor_x', 'screen_coor_y', 'hover_duration']\n"
   ]
  },
  {
   "cell_type": "code",
   "execution_count": 8,
   "id": "declared-press",
   "metadata": {
    "execution": {
     "iopub.execute_input": "2023-05-08T22:54:46.564899Z",
     "iopub.status.busy": "2023-05-08T22:54:46.564210Z",
     "iopub.status.idle": "2023-05-08T22:54:46.573073Z",
     "shell.execute_reply": "2023-05-08T22:54:46.571886Z"
    },
    "papermill": {
     "duration": 0.024906,
     "end_time": "2023-05-08T22:54:46.576407",
     "exception": false,
     "start_time": "2023-05-08T22:54:46.551501",
     "status": "completed"
    },
    "tags": []
   },
   "outputs": [],
   "source": [
    "# Reference: https://www.kaggle.com/code/cdeotte/random-forest-baseline-0-664/notebook\n",
    "\n",
    "# add more features to the data\n",
    "def feature_engineer(dataset_df):\n",
    "    dfs = []\n",
    "    for c in cat_features:\n",
    "        tmp = dataset_df.groupby(['session_id','level_group'])[c].agg('nunique')\n",
    "        tmp.name = tmp.name + '_nunique'\n",
    "        dfs.append(tmp)\n",
    "    for c in num_features:\n",
    "        tmp = dataset_df.groupby(['session_id','level_group'])[c].agg('mean')\n",
    "        dfs.append(tmp)\n",
    "    for c in num_features:\n",
    "        tmp = dataset_df.groupby(['session_id','level_group'])[c].agg('std')\n",
    "        tmp.name = tmp.name + '_std'\n",
    "        dfs.append(tmp)\n",
    "    dataset_df = pd.concat(dfs,axis=1)\n",
    "    dataset_df = dataset_df.fillna(-1)\n",
    "    dataset_df = dataset_df.reset_index()\n",
    "    dataset_df = dataset_df.set_index('session_id')\n",
    "    return dataset_df"
   ]
  },
  {
   "cell_type": "code",
   "execution_count": 9,
   "id": "theoretical-reporter",
   "metadata": {
    "execution": {
     "iopub.execute_input": "2023-05-08T22:54:46.594777Z",
     "iopub.status.busy": "2023-05-08T22:54:46.593921Z",
     "iopub.status.idle": "2023-05-08T22:55:37.703925Z",
     "shell.execute_reply": "2023-05-08T22:55:37.702832Z"
    },
    "papermill": {
     "duration": 51.123081,
     "end_time": "2023-05-08T22:55:37.707102",
     "exception": false,
     "start_time": "2023-05-08T22:54:46.584021",
     "status": "completed"
    },
    "tags": []
   },
   "outputs": [],
   "source": [
    "train = feature_engineer(train)"
   ]
  },
  {
   "cell_type": "code",
   "execution_count": 10,
   "id": "hidden-consultation",
   "metadata": {
    "execution": {
     "iopub.execute_input": "2023-05-08T22:55:37.724041Z",
     "iopub.status.busy": "2023-05-08T22:55:37.723374Z",
     "iopub.status.idle": "2023-05-08T22:55:40.551933Z",
     "shell.execute_reply": "2023-05-08T22:55:40.550844Z"
    },
    "papermill": {
     "duration": 2.84149,
     "end_time": "2023-05-08T22:55:40.556207",
     "exception": false,
     "start_time": "2023-05-08T22:55:37.714717",
     "status": "completed"
    },
    "tags": []
   },
   "outputs": [
    {
     "data": {
      "image/png": "[encoded data removed]",
      "text/plain": [
       "<Figure size 1000x1000 with 6 Axes>"
      ]
     },
     "metadata": {},
     "output_type": "display_data"
    }
   ],
   "source": [
    "# Visualization of the data\n",
    "\n",
    "figure, axis = plt.subplots(3, 2, figsize=(10, 10))\n",
    "\n",
    "for name, data in train.groupby('level_group'):\n",
    "    axis[0, 0].plot(range(1, len(data['room_coor_x_std'])+1), data['room_coor_x_std'], label=name)\n",
    "    axis[0, 1].plot(range(1, len(data['room_coor_y_std'])+1), data['room_coor_y_std'], label=name)\n",
    "    axis[1, 0].plot(range(1, len(data['screen_coor_x_std'])+1), data['screen_coor_x_std'], label=name)\n",
    "    axis[1, 1].plot(range(1, len(data['screen_coor_y_std'])+1), data['screen_coor_y_std'], label=name)\n",
    "    axis[2, 0].plot(range(1, len(data['hover_duration'])+1), data['hover_duration_std'], label=name)\n",
    "    axis[2, 1].plot(range(1, len(data['elapsed_time_std'])+1), data['elapsed_time_std'], label=name)\n",
    "    \n",
    "\n",
    "axis[0, 0].set_title('room_coor_x')\n",
    "axis[0, 1].set_title('room_coor_y')\n",
    "axis[1, 0].set_title('screen_coor_x')\n",
    "axis[1, 1].set_title('screen_coor_y')\n",
    "axis[2, 0].set_title('hover_duration')\n",
    "axis[2, 1].set_title('elapsed_time_std')\n",
    "\n",
    "for i in range(3):\n",
    "    axis[i, 0].legend()\n",
    "    axis[i, 1].legend()\n",
    "\n",
    "plt.show()"
   ]
  },
  {
   "cell_type": "code",
   "execution_count": 11,
   "id": "hungarian-fruit",
   "metadata": {
    "execution": {
     "iopub.execute_input": "2023-05-08T22:55:40.577158Z",
     "iopub.status.busy": "2023-05-08T22:55:40.576696Z",
     "iopub.status.idle": "2023-05-08T22:55:41.219152Z",
     "shell.execute_reply": "2023-05-08T22:55:41.217573Z"
    },
    "papermill": {
     "duration": 0.656683,
     "end_time": "2023-05-08T22:55:41.222769",
     "exception": false,
     "start_time": "2023-05-08T22:55:40.566086",
     "status": "completed"
    },
    "tags": []
   },
   "outputs": [
    {
     "data": {
      "image/png": "[encoded data removed]",
      "text/plain": [
       "<Figure size 640x480 with 1 Axes>"
      ]
     },
     "metadata": {},
     "output_type": "display_data"
    },
    {
     "data": {
      "image/png": "[encoded data removed]",
      "text/plain": [
       "<Figure size 640x480 with 1 Axes>"
      ]
     },
     "metadata": {},
     "output_type": "display_data"
    }
   ],
   "source": [
    "plt.scatter(train['room_coor_x'], train['room_coor_y'])\n",
    "plt.show()\n",
    "\n",
    "plt.scatter(train['screen_coor_x'], train['screen_coor_y'])\n",
    "plt.show()"
   ]
  },
  {
   "cell_type": "code",
   "execution_count": 12,
   "id": "decent-understanding",
   "metadata": {
    "execution": {
     "iopub.execute_input": "2023-05-08T22:55:41.245440Z",
     "iopub.status.busy": "2023-05-08T22:55:41.244999Z",
     "iopub.status.idle": "2023-05-08T22:55:41.251502Z",
     "shell.execute_reply": "2023-05-08T22:55:41.250562Z"
    },
    "papermill": {
     "duration": 0.02075,
     "end_time": "2023-05-08T22:55:41.253998",
     "exception": false,
     "start_time": "2023-05-08T22:55:41.233248",
     "status": "completed"
    },
    "tags": []
   },
   "outputs": [
    {
     "data": {
      "text/plain": [
       "(70686, 22)"
      ]
     },
     "execution_count": 12,
     "metadata": {},
     "output_type": "execute_result"
    }
   ],
   "source": [
    "train.shape"
   ]
  },
  {
   "cell_type": "code",
   "execution_count": 13,
   "id": "incomplete-thesis",
   "metadata": {
    "execution": {
     "iopub.execute_input": "2023-05-08T22:55:41.277660Z",
     "iopub.status.busy": "2023-05-08T22:55:41.276578Z",
     "iopub.status.idle": "2023-05-08T22:55:41.311707Z",
     "shell.execute_reply": "2023-05-08T22:55:41.310231Z"
    },
    "papermill": {
     "duration": 0.049962,
     "end_time": "2023-05-08T22:55:41.314770",
     "exception": false,
     "start_time": "2023-05-08T22:55:41.264808",
     "status": "completed"
    },
    "tags": []
   },
   "outputs": [
    {
     "name": "stdout",
     "output_type": "stream",
     "text": [
      "Drop 12 outliers of room coordinates\n"
     ]
    }
   ],
   "source": [
    "# filter outliers of room coordinates\n",
    "index_room_filter = train[ (train['room_coor_y'] >= 100) | (train['room_coor_y'] <= -380) \n",
    "                          | (train['room_coor_x'] <= -400)].index\n",
    "print(\"Drop\",len(index_room_filter), \"outliers of room coordinates\")\n",
    "train.drop(index_room_filter, inplace=True)"
   ]
  },
  {
   "cell_type": "code",
   "execution_count": 14,
   "id": "southern-slide",
   "metadata": {
    "execution": {
     "iopub.execute_input": "2023-05-08T22:55:41.339543Z",
     "iopub.status.busy": "2023-05-08T22:55:41.338474Z",
     "iopub.status.idle": "2023-05-08T22:55:41.410262Z",
     "shell.execute_reply": "2023-05-08T22:55:41.408916Z"
    },
    "papermill": {
     "duration": 0.087804,
     "end_time": "2023-05-08T22:55:41.413500",
     "exception": false,
     "start_time": "2023-05-08T22:55:41.325696",
     "status": "completed"
    },
    "tags": []
   },
   "outputs": [
    {
     "name": "stdout",
     "output_type": "stream",
     "text": [
      "56523 examples in training, 14133 examples in testing.\n",
      "Training data size is 56523\n",
      "Validating data size is 14133\n"
     ]
    }
   ],
   "source": [
    "# split the dataset according to the users\n",
    "def split_dataset(dataset, test_ratio=0.20):\n",
    "    USER_LIST = train.index.unique()\n",
    "    split = int(len(USER_LIST) * (1 - 0.20))\n",
    "    return dataset.loc[USER_LIST[:split]], dataset.loc[USER_LIST[split:]]\n",
    "\n",
    "train_x, valid_x = split_dataset(train)\n",
    "print(\"{} examples in training, {} examples in testing.\".format(\n",
    "    len(train_x), len(valid_x)))\n",
    "print(\"Training data size is\",train_x.shape[0])\n",
    "print(\"Validating data size is\",valid_x.shape[0])"
   ]
  },
  {
   "cell_type": "code",
   "execution_count": 15,
   "id": "centered-judge",
   "metadata": {
    "execution": {
     "iopub.execute_input": "2023-05-08T22:55:41.437466Z",
     "iopub.status.busy": "2023-05-08T22:55:41.436969Z",
     "iopub.status.idle": "2023-05-08T22:55:41.446992Z",
     "shell.execute_reply": "2023-05-08T22:55:41.445651Z"
    },
    "papermill": {
     "duration": 0.025275,
     "end_time": "2023-05-08T22:55:41.450320",
     "exception": false,
     "start_time": "2023-05-08T22:55:41.425045",
     "status": "completed"
    },
    "tags": []
   },
   "outputs": [],
   "source": [
    "# create a dataframe to store the result\n",
    "adict = {}\n",
    "for i in range(1,19):\n",
    "    adict[i] = 0\n",
    "result_df = pd.DataFrame(adict ,index=valid_x.index.unique())"
   ]
  },
  {
   "cell_type": "markdown",
   "id": "written-western",
   "metadata": {
    "papermill": {
     "duration": 0.010268,
     "end_time": "2023-05-08T22:55:41.471455",
     "exception": false,
     "start_time": "2023-05-08T22:55:41.461187",
     "status": "completed"
    },
    "tags": []
   },
   "source": [
    "Tried Tree_Test and other ways, keep the Best XGB"
   ]
  },
  {
   "cell_type": "markdown",
   "id": "standard-delight",
   "metadata": {
    "papermill": {
     "duration": 0.0106,
     "end_time": "2023-05-08T22:55:41.493228",
     "exception": false,
     "start_time": "2023-05-08T22:55:41.482628",
     "status": "completed"
    },
    "tags": []
   },
   "source": [
    "# **XGB Test**"
   ]
  },
  {
   "cell_type": "code",
   "execution_count": 16,
   "id": "colonial-cannon",
   "metadata": {
    "execution": {
     "iopub.execute_input": "2023-05-08T22:55:41.516642Z",
     "iopub.status.busy": "2023-05-08T22:55:41.515818Z",
     "iopub.status.idle": "2023-05-08T22:56:13.694828Z",
     "shell.execute_reply": "2023-05-08T22:56:13.693493Z"
    },
    "papermill": {
     "duration": 32.193752,
     "end_time": "2023-05-08T22:56:13.697465",
     "exception": false,
     "start_time": "2023-05-08T22:55:41.503713",
     "status": "completed"
    },
    "tags": []
   },
   "outputs": [
    {
     "name": "stderr",
     "output_type": "stream",
     "text": [
      "/opt/conda/lib/python3.7/site-packages/ipykernel_launcher.py:24: SettingWithCopyWarning: \n",
      "A value is trying to be set on a copy of a slice from a DataFrame.\n",
      "Try using .loc[row_indexer,col_indexer] = value instead\n",
      "\n",
      "See the caveats in the documentation: https://pandas.pydata.org/pandas-docs/stable/user_guide/indexing.html#returning-a-view-versus-a-copy\n",
      "/opt/conda/lib/python3.7/site-packages/ipykernel_launcher.py:25: SettingWithCopyWarning: \n",
      "A value is trying to be set on a copy of a slice from a DataFrame.\n",
      "Try using .loc[row_indexer,col_indexer] = value instead\n",
      "\n",
      "See the caveats in the documentation: https://pandas.pydata.org/pandas-docs/stable/user_guide/indexing.html#returning-a-view-versus-a-copy\n"
     ]
    },
    {
     "name": "stdout",
     "output_type": "stream",
     "text": [
      "Question 1 Done\n"
     ]
    },
    {
     "name": "stderr",
     "output_type": "stream",
     "text": [
      "/opt/conda/lib/python3.7/site-packages/ipykernel_launcher.py:24: SettingWithCopyWarning: \n",
      "A value is trying to be set on a copy of a slice from a DataFrame.\n",
      "Try using .loc[row_indexer,col_indexer] = value instead\n",
      "\n",
      "See the caveats in the documentation: https://pandas.pydata.org/pandas-docs/stable/user_guide/indexing.html#returning-a-view-versus-a-copy\n",
      "/opt/conda/lib/python3.7/site-packages/ipykernel_launcher.py:25: SettingWithCopyWarning: \n",
      "A value is trying to be set on a copy of a slice from a DataFrame.\n",
      "Try using .loc[row_indexer,col_indexer] = value instead\n",
      "\n",
      "See the caveats in the documentation: https://pandas.pydata.org/pandas-docs/stable/user_guide/indexing.html#returning-a-view-versus-a-copy\n"
     ]
    },
    {
     "name": "stdout",
     "output_type": "stream",
     "text": [
      "Question 2 Done\n"
     ]
    },
    {
     "name": "stderr",
     "output_type": "stream",
     "text": [
      "/opt/conda/lib/python3.7/site-packages/ipykernel_launcher.py:24: SettingWithCopyWarning: \n",
      "A value is trying to be set on a copy of a slice from a DataFrame.\n",
      "Try using .loc[row_indexer,col_indexer] = value instead\n",
      "\n",
      "See the caveats in the documentation: https://pandas.pydata.org/pandas-docs/stable/user_guide/indexing.html#returning-a-view-versus-a-copy\n",
      "/opt/conda/lib/python3.7/site-packages/ipykernel_launcher.py:25: SettingWithCopyWarning: \n",
      "A value is trying to be set on a copy of a slice from a DataFrame.\n",
      "Try using .loc[row_indexer,col_indexer] = value instead\n",
      "\n",
      "See the caveats in the documentation: https://pandas.pydata.org/pandas-docs/stable/user_guide/indexing.html#returning-a-view-versus-a-copy\n"
     ]
    },
    {
     "name": "stdout",
     "output_type": "stream",
     "text": [
      "Question 3 Done\n"
     ]
    },
    {
     "name": "stderr",
     "output_type": "stream",
     "text": [
      "/opt/conda/lib/python3.7/site-packages/ipykernel_launcher.py:24: SettingWithCopyWarning: \n",
      "A value is trying to be set on a copy of a slice from a DataFrame.\n",
      "Try using .loc[row_indexer,col_indexer] = value instead\n",
      "\n",
      "See the caveats in the documentation: https://pandas.pydata.org/pandas-docs/stable/user_guide/indexing.html#returning-a-view-versus-a-copy\n",
      "/opt/conda/lib/python3.7/site-packages/ipykernel_launcher.py:25: SettingWithCopyWarning: \n",
      "A value is trying to be set on a copy of a slice from a DataFrame.\n",
      "Try using .loc[row_indexer,col_indexer] = value instead\n",
      "\n",
      "See the caveats in the documentation: https://pandas.pydata.org/pandas-docs/stable/user_guide/indexing.html#returning-a-view-versus-a-copy\n"
     ]
    },
    {
     "name": "stdout",
     "output_type": "stream",
     "text": [
      "Question 4 Done\n"
     ]
    },
    {
     "name": "stderr",
     "output_type": "stream",
     "text": [
      "/opt/conda/lib/python3.7/site-packages/ipykernel_launcher.py:24: SettingWithCopyWarning: \n",
      "A value is trying to be set on a copy of a slice from a DataFrame.\n",
      "Try using .loc[row_indexer,col_indexer] = value instead\n",
      "\n",
      "See the caveats in the documentation: https://pandas.pydata.org/pandas-docs/stable/user_guide/indexing.html#returning-a-view-versus-a-copy\n",
      "/opt/conda/lib/python3.7/site-packages/ipykernel_launcher.py:25: SettingWithCopyWarning: \n",
      "A value is trying to be set on a copy of a slice from a DataFrame.\n",
      "Try using .loc[row_indexer,col_indexer] = value instead\n",
      "\n",
      "See the caveats in the documentation: https://pandas.pydata.org/pandas-docs/stable/user_guide/indexing.html#returning-a-view-versus-a-copy\n"
     ]
    },
    {
     "name": "stdout",
     "output_type": "stream",
     "text": [
      "Question 5 Done\n"
     ]
    },
    {
     "name": "stderr",
     "output_type": "stream",
     "text": [
      "/opt/conda/lib/python3.7/site-packages/ipykernel_launcher.py:24: SettingWithCopyWarning: \n",
      "A value is trying to be set on a copy of a slice from a DataFrame.\n",
      "Try using .loc[row_indexer,col_indexer] = value instead\n",
      "\n",
      "See the caveats in the documentation: https://pandas.pydata.org/pandas-docs/stable/user_guide/indexing.html#returning-a-view-versus-a-copy\n",
      "/opt/conda/lib/python3.7/site-packages/ipykernel_launcher.py:25: SettingWithCopyWarning: \n",
      "A value is trying to be set on a copy of a slice from a DataFrame.\n",
      "Try using .loc[row_indexer,col_indexer] = value instead\n",
      "\n",
      "See the caveats in the documentation: https://pandas.pydata.org/pandas-docs/stable/user_guide/indexing.html#returning-a-view-versus-a-copy\n"
     ]
    },
    {
     "name": "stdout",
     "output_type": "stream",
     "text": [
      "Question 6 Done\n"
     ]
    },
    {
     "name": "stderr",
     "output_type": "stream",
     "text": [
      "/opt/conda/lib/python3.7/site-packages/ipykernel_launcher.py:24: SettingWithCopyWarning: \n",
      "A value is trying to be set on a copy of a slice from a DataFrame.\n",
      "Try using .loc[row_indexer,col_indexer] = value instead\n",
      "\n",
      "See the caveats in the documentation: https://pandas.pydata.org/pandas-docs/stable/user_guide/indexing.html#returning-a-view-versus-a-copy\n",
      "/opt/conda/lib/python3.7/site-packages/ipykernel_launcher.py:25: SettingWithCopyWarning: \n",
      "A value is trying to be set on a copy of a slice from a DataFrame.\n",
      "Try using .loc[row_indexer,col_indexer] = value instead\n",
      "\n",
      "See the caveats in the documentation: https://pandas.pydata.org/pandas-docs/stable/user_guide/indexing.html#returning-a-view-versus-a-copy\n"
     ]
    },
    {
     "name": "stdout",
     "output_type": "stream",
     "text": [
      "Question 7 Done\n"
     ]
    },
    {
     "name": "stderr",
     "output_type": "stream",
     "text": [
      "/opt/conda/lib/python3.7/site-packages/ipykernel_launcher.py:24: SettingWithCopyWarning: \n",
      "A value is trying to be set on a copy of a slice from a DataFrame.\n",
      "Try using .loc[row_indexer,col_indexer] = value instead\n",
      "\n",
      "See the caveats in the documentation: https://pandas.pydata.org/pandas-docs/stable/user_guide/indexing.html#returning-a-view-versus-a-copy\n",
      "/opt/conda/lib/python3.7/site-packages/ipykernel_launcher.py:25: SettingWithCopyWarning: \n",
      "A value is trying to be set on a copy of a slice from a DataFrame.\n",
      "Try using .loc[row_indexer,col_indexer] = value instead\n",
      "\n",
      "See the caveats in the documentation: https://pandas.pydata.org/pandas-docs/stable/user_guide/indexing.html#returning-a-view-versus-a-copy\n"
     ]
    },
    {
     "name": "stdout",
     "output_type": "stream",
     "text": [
      "Question 8 Done\n"
     ]
    },
    {
     "name": "stderr",
     "output_type": "stream",
     "text": [
      "/opt/conda/lib/python3.7/site-packages/ipykernel_launcher.py:24: SettingWithCopyWarning: \n",
      "A value is trying to be set on a copy of a slice from a DataFrame.\n",
      "Try using .loc[row_indexer,col_indexer] = value instead\n",
      "\n",
      "See the caveats in the documentation: https://pandas.pydata.org/pandas-docs/stable/user_guide/indexing.html#returning-a-view-versus-a-copy\n",
      "/opt/conda/lib/python3.7/site-packages/ipykernel_launcher.py:25: SettingWithCopyWarning: \n",
      "A value is trying to be set on a copy of a slice from a DataFrame.\n",
      "Try using .loc[row_indexer,col_indexer] = value instead\n",
      "\n",
      "See the caveats in the documentation: https://pandas.pydata.org/pandas-docs/stable/user_guide/indexing.html#returning-a-view-versus-a-copy\n"
     ]
    },
    {
     "name": "stdout",
     "output_type": "stream",
     "text": [
      "Question 9 Done\n"
     ]
    },
    {
     "name": "stderr",
     "output_type": "stream",
     "text": [
      "/opt/conda/lib/python3.7/site-packages/ipykernel_launcher.py:24: SettingWithCopyWarning: \n",
      "A value is trying to be set on a copy of a slice from a DataFrame.\n",
      "Try using .loc[row_indexer,col_indexer] = value instead\n",
      "\n",
      "See the caveats in the documentation: https://pandas.pydata.org/pandas-docs/stable/user_guide/indexing.html#returning-a-view-versus-a-copy\n",
      "/opt/conda/lib/python3.7/site-packages/ipykernel_launcher.py:25: SettingWithCopyWarning: \n",
      "A value is trying to be set on a copy of a slice from a DataFrame.\n",
      "Try using .loc[row_indexer,col_indexer] = value instead\n",
      "\n",
      "See the caveats in the documentation: https://pandas.pydata.org/pandas-docs/stable/user_guide/indexing.html#returning-a-view-versus-a-copy\n"
     ]
    },
    {
     "name": "stdout",
     "output_type": "stream",
     "text": [
      "Question 10 Done\n"
     ]
    },
    {
     "name": "stderr",
     "output_type": "stream",
     "text": [
      "/opt/conda/lib/python3.7/site-packages/ipykernel_launcher.py:24: SettingWithCopyWarning: \n",
      "A value is trying to be set on a copy of a slice from a DataFrame.\n",
      "Try using .loc[row_indexer,col_indexer] = value instead\n",
      "\n",
      "See the caveats in the documentation: https://pandas.pydata.org/pandas-docs/stable/user_guide/indexing.html#returning-a-view-versus-a-copy\n",
      "/opt/conda/lib/python3.7/site-packages/ipykernel_launcher.py:25: SettingWithCopyWarning: \n",
      "A value is trying to be set on a copy of a slice from a DataFrame.\n",
      "Try using .loc[row_indexer,col_indexer] = value instead\n",
      "\n",
      "See the caveats in the documentation: https://pandas.pydata.org/pandas-docs/stable/user_guide/indexing.html#returning-a-view-versus-a-copy\n"
     ]
    },
    {
     "name": "stdout",
     "output_type": "stream",
     "text": [
      "Question 11 Done\n"
     ]
    },
    {
     "name": "stderr",
     "output_type": "stream",
     "text": [
      "/opt/conda/lib/python3.7/site-packages/ipykernel_launcher.py:24: SettingWithCopyWarning: \n",
      "A value is trying to be set on a copy of a slice from a DataFrame.\n",
      "Try using .loc[row_indexer,col_indexer] = value instead\n",
      "\n",
      "See the caveats in the documentation: https://pandas.pydata.org/pandas-docs/stable/user_guide/indexing.html#returning-a-view-versus-a-copy\n",
      "/opt/conda/lib/python3.7/site-packages/ipykernel_launcher.py:25: SettingWithCopyWarning: \n",
      "A value is trying to be set on a copy of a slice from a DataFrame.\n",
      "Try using .loc[row_indexer,col_indexer] = value instead\n",
      "\n",
      "See the caveats in the documentation: https://pandas.pydata.org/pandas-docs/stable/user_guide/indexing.html#returning-a-view-versus-a-copy\n"
     ]
    },
    {
     "name": "stdout",
     "output_type": "stream",
     "text": [
      "Question 12 Done\n"
     ]
    },
    {
     "name": "stderr",
     "output_type": "stream",
     "text": [
      "/opt/conda/lib/python3.7/site-packages/ipykernel_launcher.py:24: SettingWithCopyWarning: \n",
      "A value is trying to be set on a copy of a slice from a DataFrame.\n",
      "Try using .loc[row_indexer,col_indexer] = value instead\n",
      "\n",
      "See the caveats in the documentation: https://pandas.pydata.org/pandas-docs/stable/user_guide/indexing.html#returning-a-view-versus-a-copy\n",
      "/opt/conda/lib/python3.7/site-packages/ipykernel_launcher.py:25: SettingWithCopyWarning: \n",
      "A value is trying to be set on a copy of a slice from a DataFrame.\n",
      "Try using .loc[row_indexer,col_indexer] = value instead\n",
      "\n",
      "See the caveats in the documentation: https://pandas.pydata.org/pandas-docs/stable/user_guide/indexing.html#returning-a-view-versus-a-copy\n"
     ]
    },
    {
     "name": "stdout",
     "output_type": "stream",
     "text": [
      "Question 13 Done\n"
     ]
    },
    {
     "name": "stderr",
     "output_type": "stream",
     "text": [
      "/opt/conda/lib/python3.7/site-packages/ipykernel_launcher.py:24: SettingWithCopyWarning: \n",
      "A value is trying to be set on a copy of a slice from a DataFrame.\n",
      "Try using .loc[row_indexer,col_indexer] = value instead\n",
      "\n",
      "See the caveats in the documentation: https://pandas.pydata.org/pandas-docs/stable/user_guide/indexing.html#returning-a-view-versus-a-copy\n",
      "/opt/conda/lib/python3.7/site-packages/ipykernel_launcher.py:25: SettingWithCopyWarning: \n",
      "A value is trying to be set on a copy of a slice from a DataFrame.\n",
      "Try using .loc[row_indexer,col_indexer] = value instead\n",
      "\n",
      "See the caveats in the documentation: https://pandas.pydata.org/pandas-docs/stable/user_guide/indexing.html#returning-a-view-versus-a-copy\n"
     ]
    },
    {
     "name": "stdout",
     "output_type": "stream",
     "text": [
      "Question 14 Done\n"
     ]
    },
    {
     "name": "stderr",
     "output_type": "stream",
     "text": [
      "/opt/conda/lib/python3.7/site-packages/ipykernel_launcher.py:24: SettingWithCopyWarning: \n",
      "A value is trying to be set on a copy of a slice from a DataFrame.\n",
      "Try using .loc[row_indexer,col_indexer] = value instead\n",
      "\n",
      "See the caveats in the documentation: https://pandas.pydata.org/pandas-docs/stable/user_guide/indexing.html#returning-a-view-versus-a-copy\n",
      "/opt/conda/lib/python3.7/site-packages/ipykernel_launcher.py:25: SettingWithCopyWarning: \n",
      "A value is trying to be set on a copy of a slice from a DataFrame.\n",
      "Try using .loc[row_indexer,col_indexer] = value instead\n",
      "\n",
      "See the caveats in the documentation: https://pandas.pydata.org/pandas-docs/stable/user_guide/indexing.html#returning-a-view-versus-a-copy\n"
     ]
    },
    {
     "name": "stdout",
     "output_type": "stream",
     "text": [
      "Question 15 Done\n"
     ]
    },
    {
     "name": "stderr",
     "output_type": "stream",
     "text": [
      "/opt/conda/lib/python3.7/site-packages/ipykernel_launcher.py:24: SettingWithCopyWarning: \n",
      "A value is trying to be set on a copy of a slice from a DataFrame.\n",
      "Try using .loc[row_indexer,col_indexer] = value instead\n",
      "\n",
      "See the caveats in the documentation: https://pandas.pydata.org/pandas-docs/stable/user_guide/indexing.html#returning-a-view-versus-a-copy\n",
      "/opt/conda/lib/python3.7/site-packages/ipykernel_launcher.py:25: SettingWithCopyWarning: \n",
      "A value is trying to be set on a copy of a slice from a DataFrame.\n",
      "Try using .loc[row_indexer,col_indexer] = value instead\n",
      "\n",
      "See the caveats in the documentation: https://pandas.pydata.org/pandas-docs/stable/user_guide/indexing.html#returning-a-view-versus-a-copy\n"
     ]
    },
    {
     "name": "stdout",
     "output_type": "stream",
     "text": [
      "Question 16 Done\n"
     ]
    },
    {
     "name": "stderr",
     "output_type": "stream",
     "text": [
      "/opt/conda/lib/python3.7/site-packages/ipykernel_launcher.py:24: SettingWithCopyWarning: \n",
      "A value is trying to be set on a copy of a slice from a DataFrame.\n",
      "Try using .loc[row_indexer,col_indexer] = value instead\n",
      "\n",
      "See the caveats in the documentation: https://pandas.pydata.org/pandas-docs/stable/user_guide/indexing.html#returning-a-view-versus-a-copy\n",
      "/opt/conda/lib/python3.7/site-packages/ipykernel_launcher.py:25: SettingWithCopyWarning: \n",
      "A value is trying to be set on a copy of a slice from a DataFrame.\n",
      "Try using .loc[row_indexer,col_indexer] = value instead\n",
      "\n",
      "See the caveats in the documentation: https://pandas.pydata.org/pandas-docs/stable/user_guide/indexing.html#returning-a-view-versus-a-copy\n"
     ]
    },
    {
     "name": "stdout",
     "output_type": "stream",
     "text": [
      "Question 17 Done\n"
     ]
    },
    {
     "name": "stderr",
     "output_type": "stream",
     "text": [
      "/opt/conda/lib/python3.7/site-packages/ipykernel_launcher.py:24: SettingWithCopyWarning: \n",
      "A value is trying to be set on a copy of a slice from a DataFrame.\n",
      "Try using .loc[row_indexer,col_indexer] = value instead\n",
      "\n",
      "See the caveats in the documentation: https://pandas.pydata.org/pandas-docs/stable/user_guide/indexing.html#returning-a-view-versus-a-copy\n",
      "/opt/conda/lib/python3.7/site-packages/ipykernel_launcher.py:25: SettingWithCopyWarning: \n",
      "A value is trying to be set on a copy of a slice from a DataFrame.\n",
      "Try using .loc[row_indexer,col_indexer] = value instead\n",
      "\n",
      "See the caveats in the documentation: https://pandas.pydata.org/pandas-docs/stable/user_guide/indexing.html#returning-a-view-versus-a-copy\n"
     ]
    },
    {
     "name": "stdout",
     "output_type": "stream",
     "text": [
      "Question 18 Done\n"
     ]
    }
   ],
   "source": [
    "FEATURES = [f for f in train.columns if f != 'level_group']\n",
    "models={}\n",
    "Acc = []\n",
    "F1 = []\n",
    "for q_num in range(1,19):\n",
    "    # iterate through 18 questions    \n",
    "    \n",
    "    # classify the questions upon the level group  \n",
    "    if q_num<=3: grp = '0-4'\n",
    "    elif q_num<=13: grp = '5-12'\n",
    "    elif q_num<=22: grp = '13-22'\n",
    "\n",
    "    # Train data\n",
    "    train_df = train_x.loc[train_x.level_group == grp]\n",
    "    train_users = train_df.index.values\n",
    "    train_labels = labels.loc[labels.q==q_num].set_index('session').loc[train_users]\n",
    "    \n",
    "    # Valid data\n",
    "    valid_df = valid_x.loc[valid_x.level_group == grp]\n",
    "    valid_users = valid_df.index.values\n",
    "    valid_labels = labels.loc[labels.q==q_num].set_index('session').loc[valid_users]\n",
    "    \n",
    "    # Add the label to the filtered datasets.\n",
    "    train_df[\"correct\"] = train_labels[\"correct\"]\n",
    "    valid_df[\"correct\"] = valid_labels[\"correct\"]\n",
    "    \n",
    "    # set up the XGB parameters\n",
    "    xgb_params = {\n",
    "    'objective' : 'binary:logistic',\n",
    "    'eval_metric':'logloss',\n",
    "    'learning_rate': 0.05,\n",
    "    'max_depth': 4,\n",
    "    'n_estimators': 1000,\n",
    "    'early_stopping_rounds': 40,\n",
    "    'tree_method':'hist',\n",
    "    'subsample':0.8,\n",
    "    'colsample_bytree': 0.4}\n",
    "    estimator = XGBClassifier(**xgb_params)\n",
    "    \n",
    "    # train the XGB model\n",
    "    X = train_df[FEATURES].astype('float32')\n",
    "    Y = train_df['correct']\n",
    "    estimator.fit(X,Y,\n",
    "                eval_set=[ (valid_df[FEATURES].astype('float32'), valid_df['correct']) ],\n",
    "                verbose=0)\n",
    "    \n",
    "#     grid_search.fit(train_df[FEATURES].astype('float32'), train_df['correct'],\n",
    "#                 eval_set=[ (valid_df[FEATURES].astype('float32'), valid_df['correct']) ],\n",
    "#                 verbose=0)\n",
    "    \n",
    "    print(\"Question\",q_num,\"Done\")\n",
    "    \n",
    "    # save the model, its prediction result, current accuracy\n",
    "    predictions=estimator.predict(valid_df[FEATURES])\n",
    "    accuracy = accuracy_score(valid_df['correct'], predictions)\n",
    "    Acc.append(accuracy)\n",
    "    f1 = f1_score(valid_df['correct'], predictions, average='macro')\n",
    "    F1.append(f1)\n",
    "    \n",
    "    models[f'{grp}_{q_num}'] = estimator\n",
    "    result_df.loc[valid_users, q_num-1] = estimator.predict_proba(valid_df[FEATURES].astype('float32'))[:,1]"
   ]
  },
  {
   "cell_type": "code",
   "execution_count": 17,
   "id": "existing-affair",
   "metadata": {
    "execution": {
     "iopub.execute_input": "2023-05-08T22:56:13.728085Z",
     "iopub.status.busy": "2023-05-08T22:56:13.727635Z",
     "iopub.status.idle": "2023-05-08T22:56:13.735932Z",
     "shell.execute_reply": "2023-05-08T22:56:13.734312Z"
    },
    "papermill": {
     "duration": 0.029649,
     "end_time": "2023-05-08T22:56:13.742267",
     "exception": false,
     "start_time": "2023-05-08T22:56:13.712618",
     "status": "completed"
    },
    "tags": []
   },
   "outputs": [
    {
     "name": "stdout",
     "output_type": "stream",
     "text": [
      "F1 for Question 0 is 0.4438185204602548\n",
      "F1 for Question 1 is 0.4938218545181046\n",
      "F1 for Question 2 is 0.4832163229486617\n",
      "F1 for Question 3 is 0.5054255774278446\n",
      "F1 for Question 4 is 0.6117859774304882\n",
      "F1 for Question 5 is 0.5065157118793263\n",
      "F1 for Question 6 is 0.47316076090452786\n",
      "F1 for Question 7 is 0.45516087685899004\n",
      "F1 for Question 8 is 0.5244558235142973\n",
      "F1 for Question 9 is 0.6071430775149905\n",
      "F1 for Question 10 is 0.48688925644358794\n",
      "F1 for Question 11 is 0.4652060392780111\n",
      "F1 for Question 12 is 0.4777105111786154\n",
      "F1 for Question 13 is 0.5190158138258322\n",
      "F1 for Question 14 is 0.6157889301345776\n",
      "F1 for Question 15 is 0.42841543314729436\n",
      "F1 for Question 16 is 0.41372627468096423\n",
      "F1 for Question 17 is 0.4876563349646547\n",
      "\n",
      "Overall average F1 is 0.499939616506168\n"
     ]
    }
   ],
   "source": [
    "for i in range(18):\n",
    "    print(\"F1 for Question\",i, \"is\",F1[i])\n",
    "\n",
    "print()\n",
    "print(\"Overall average F1 is\",np.mean(F1))"
   ]
  },
  {
   "cell_type": "code",
   "execution_count": 18,
   "id": "specific-fifty",
   "metadata": {
    "execution": {
     "iopub.execute_input": "2023-05-08T22:56:13.773910Z",
     "iopub.status.busy": "2023-05-08T22:56:13.773046Z",
     "iopub.status.idle": "2023-05-08T22:56:14.638209Z",
     "shell.execute_reply": "2023-05-08T22:56:14.636394Z"
    },
    "papermill": {
     "duration": 0.885301,
     "end_time": "2023-05-08T22:56:14.642047",
     "exception": false,
     "start_time": "2023-05-08T22:56:13.756746",
     "status": "completed"
    },
    "tags": []
   },
   "outputs": [
    {
     "name": "stdout",
     "output_type": "stream",
     "text": [
      "The best threshold is 0.5900000000000002 with the best F1 score 0.7149008488782065\n"
     ]
    }
   ],
   "source": [
    "# modify the threshold to fit this imbalanced dataset\n",
    "true = result_df.copy()\n",
    "for k in range(18):\n",
    "    # GET TRUE LABELS\n",
    "    tmp = labels.loc[labels.q == k+1].set_index('session').loc[valid_x.index.unique()]\n",
    "    true[k] = tmp.correct.values\n",
    "# FIND BEST THRESHOLD TO CONVERT PROBS INTO 1s AND 0s\n",
    "scores = []; \n",
    "thresholds = []\n",
    "best_score = 0; \n",
    "best_threshold = 0\n",
    "\n",
    "threshold = 0.4\n",
    "\n",
    "while True:\n",
    "    if threshold > 0.6:\n",
    "        break\n",
    "    \n",
    "    preds = (result_df.values.reshape((-1))>threshold).astype('int')\n",
    "    m = f1_score(true.values.reshape((-1)), preds, average='macro')   \n",
    "    scores.append(m)\n",
    "    thresholds.append(threshold)\n",
    "    if m>best_score:\n",
    "        best_score = m\n",
    "        best_threshold = threshold\n",
    "    threshold += 0.01\n",
    "print(\"The best threshold is\", best_threshold, \"with the best F1 score\",best_score )"
   ]
  },
  {
   "cell_type": "markdown",
   "id": "labeled-julian",
   "metadata": {
    "papermill": {
     "duration": 0.015452,
     "end_time": "2023-05-08T22:56:14.675202",
     "exception": false,
     "start_time": "2023-05-08T22:56:14.659750",
     "status": "completed"
    },
    "tags": []
   },
   "source": [
    "**Output the data**"
   ]
  },
  {
   "cell_type": "code",
   "execution_count": 19,
   "id": "innocent-feeling",
   "metadata": {
    "execution": {
     "iopub.execute_input": "2023-05-08T22:56:14.709233Z",
     "iopub.status.busy": "2023-05-08T22:56:14.708194Z",
     "iopub.status.idle": "2023-05-08T22:56:15.562640Z",
     "shell.execute_reply": "2023-05-08T22:56:15.561138Z"
    },
    "papermill": {
     "duration": 0.875853,
     "end_time": "2023-05-08T22:56:15.566571",
     "exception": false,
     "start_time": "2023-05-08T22:56:14.690718",
     "status": "completed"
    },
    "tags": []
   },
   "outputs": [
    {
     "name": "stdout",
     "output_type": "stream",
     "text": [
      "This version of the API is not optimized and should not be used to estimate the runtime of your code on the hidden test set.\n"
     ]
    }
   ],
   "source": [
    "import jo_wilder\n",
    "env = jo_wilder.make_env()\n",
    "iter_test = env.iter_test()\n",
    "\n",
    "limits = {'0-4':(1,4), '5-12':(4,14), '13-22':(14,19)}\n",
    "\n",
    "for (test, sample_submission) in iter_test:\n",
    "    \n",
    "    # FEATURE ENGINEER TEST DATA\n",
    "    df = feature_engineer(test)\n",
    "    \n",
    "    # INFER TEST DATA\n",
    "    grp = test.level_group.values[0]\n",
    "    a,b = limits[grp]\n",
    "    for t in range(a,b):\n",
    "        xgb = models[f'{grp}_{t}']\n",
    "        p = xgb.predict_proba(df[FEATURES].astype('float32'))[0,1]\n",
    "        mask = sample_submission.session_id.str.contains(f'q{t}')\n",
    "        sample_submission.loc[mask,'correct'] = int( p > best_threshold )\n",
    "    \n",
    "    env.predict(sample_submission)"
   ]
  }
 ],
 "metadata": {
  "kernelspec": {
   "display_name": "Python 3",
   "language": "python",
   "name": "python3"
  },
  "language_info": {
   "codemirror_mode": {
    "name": "ipython",
    "version": 3
   },
   "file_extension": ".py",
   "mimetype": "text/x-python",
   "name": "python",
   "nbconvert_exporter": "python",
   "pygments_lexer": "ipython3",
   "version": "3.9.1"
  },
  "papermill": {
   "default_parameters": {},
   "duration": 273.618679,
   "end_time": "2023-05-08T22:56:16.914502",
   "environment_variables": {},
   "exception": null,
   "input_path": "__notebook__.ipynb",
   "output_path": "__notebook__.ipynb",
   "parameters": {},
   "start_time": "2023-05-08T22:51:43.295823",
   "version": "2.4.0"
  }
 },
 "nbformat": 4,
 "nbformat_minor": 5
}
